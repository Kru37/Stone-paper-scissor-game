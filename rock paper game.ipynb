{
 "cells": [
  {
   "cell_type": "code",
   "execution_count": 2,
   "metadata": {},
   "outputs": [
    {
     "data": {
      "text/plain": [
       "'C:\\\\Users\\\\krutuja'"
      ]
     },
     "execution_count": 2,
     "metadata": {},
     "output_type": "execute_result"
    }
   ],
   "source": [
    "pwd"
   ]
  },
  {
   "cell_type": "code",
   "execution_count": 95,
   "metadata": {},
   "outputs": [],
   "source": [
    "import random"
   ]
  },
  {
   "cell_type": "code",
   "execution_count": 96,
   "metadata": {},
   "outputs": [],
   "source": [
    "def player():\n",
    "    n = 'no'#can put anystring except rock paper scissor\n",
    "    while n!='rock' or n!='paper' or n!='scissor':\n",
    "        n = input('choose rock paper scissor')\n",
    "        if  n=='rock' or n=='paper' or n=='scissor':\n",
    "            return n\n",
    "            break\n",
    "        else:\n",
    "            pass\n",
    "        \n",
    "        \n",
    "            \n",
    "            \n",
    "        \n",
    "    \n",
    "   \n",
    "    "
   ]
  },
  {
   "cell_type": "code",
   "execution_count": 46,
   "metadata": {},
   "outputs": [
    {
     "name": "stdout",
     "output_type": "stream",
     "text": [
      "choose rock paper scissorg\n",
      "choose rock paper scissorrock\n"
     ]
    },
    {
     "data": {
      "text/plain": [
       "'rock'"
      ]
     },
     "execution_count": 46,
     "metadata": {},
     "output_type": "execute_result"
    }
   ],
   "source": [
    "player()"
   ]
  },
  {
   "cell_type": "code",
   "execution_count": 97,
   "metadata": {},
   "outputs": [],
   "source": [
    "def computer():\n",
    "    p = random.randint(0,2)\n",
    "    if p == 0:\n",
    "        return 'rock'\n",
    "    elif p == 1:\n",
    "        return 'paper'\n",
    "    else:\n",
    "        return 'scissor'\n",
    "    "
   ]
  },
  {
   "cell_type": "code",
   "execution_count": 34,
   "metadata": {},
   "outputs": [
    {
     "data": {
      "text/plain": [
       "'rock'"
      ]
     },
     "execution_count": 34,
     "metadata": {},
     "output_type": "execute_result"
    }
   ],
   "source": [
    "computer()"
   ]
  },
  {
   "cell_type": "code",
   "execution_count": 98,
   "metadata": {},
   "outputs": [],
   "source": [
    "class Game:\n",
    "    def __init__(self,player,comp):\n",
    "        self.player = player\n",
    "        self.comp = comp\n",
    "       \n",
    "    def win(self):\n",
    "        if (self.player == 'rock' and self.comp == 'paper') or (self.player == 'paper' and self.comp == 'scissor') or (self.player == 'scissor' and self.comp == 'rock'):\n",
    "            print('player won this round')\n",
    "            return 1\n",
    "        elif (self.comp == 'rock' and self.player == 'paper') or (self.comp == 'paper' and self.player == 'scissor') or (self.comp == 'scissor' and self.player == 'rock'):\n",
    "            print('computer won this round')\n",
    "            return 2\n",
    "        elif self.comp == self.player:\n",
    "            print('Draw')\n",
    "   \n",
    "       "
   ]
  },
  {
   "cell_type": "code",
   "execution_count": 88,
   "metadata": {},
   "outputs": [],
   "source": [
    "game = Game('scissor' , 'rock')"
   ]
  },
  {
   "cell_type": "code",
   "execution_count": 89,
   "metadata": {},
   "outputs": [
    {
     "name": "stdout",
     "output_type": "stream",
     "text": [
      "player won this round\n"
     ]
    }
   ],
   "source": [
    "game.win()"
   ]
  },
  {
   "cell_type": "code",
   "execution_count": 90,
   "metadata": {},
   "outputs": [
    {
     "name": "stdout",
     "output_type": "stream",
     "text": [
      "player=1, computer=0\n"
     ]
    }
   ],
   "source": [
    "print(game)"
   ]
  },
  {
   "cell_type": "code",
   "execution_count": 100,
   "metadata": {},
   "outputs": [
    {
     "name": "stdout",
     "output_type": "stream",
     "text": [
      "choose rock paper scissorrock\n",
      "player won this round\n",
      "choose rock paper scissorpaper\n",
      "player won this round\n",
      "choose rock paper scissorscissor\n",
      "player won this round\n",
      "Player won\n",
      "player3 and computer0\n",
      "do you want to play again y/nn\n"
     ]
    }
   ],
   "source": [
    "rounds = 0\n",
    "playscore = 0\n",
    "compscore = 0 \n",
    "game_on = True\n",
    "while game_on == True :\n",
    "    while rounds < 3 :\n",
    "        rounds += 1\n",
    "        s = player()\n",
    "        t = computer()\n",
    "        game1 = Game(s,t)\n",
    "        u =game1.win()\n",
    "        if u == 1:\n",
    "            playscore += 1\n",
    "        elif u == 2:\n",
    "            compscore += 1\n",
    "            \n",
    "    if playscore > compscore:\n",
    "        print('Player won')\n",
    "        print('player{} and computer{}'.format(playscore , compscore))\n",
    "    elif playscore < compscore:\n",
    "        print('computer won')\n",
    "        print('player{} and computer{}'.format(playscore , compscore))\n",
    "    else:\n",
    "        print('Match was draw')\n",
    "    m = input('do you want to play again y/n')\n",
    "    if m == 'y' :\n",
    "        game_on = True\n",
    "        rounds = 0\n",
    "        playscore = 0\n",
    "        compscore = 0 \n",
    "        \n",
    "    else:\n",
    "        game_on = False\n",
    "        \n",
    "    \n",
    "        \n",
    "    "
   ]
  },
  {
   "cell_type": "code",
   "execution_count": null,
   "metadata": {},
   "outputs": [],
   "source": [
    " def __str__(self):\n",
    "         return 'player={0}, computer={1}'.format(self.playscore, self.compscore)\n",
    "        \n",
    "        self.playscore = 0\n",
    "        self.compscore = 0 \n",
    "        \n",
    "       "
   ]
  }
 ],
 "metadata": {
  "kernelspec": {
   "display_name": "Python 3",
   "language": "python",
   "name": "python3"
  },
  "language_info": {
   "codemirror_mode": {
    "name": "ipython",
    "version": 3
   },
   "file_extension": ".py",
   "mimetype": "text/x-python",
   "name": "python",
   "nbconvert_exporter": "python",
   "pygments_lexer": "ipython3",
   "version": "3.8.3"
  }
 },
 "nbformat": 4,
 "nbformat_minor": 4
}
